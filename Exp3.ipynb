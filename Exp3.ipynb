{
 "cells": [
  {
   "cell_type": "code",
   "execution_count": 2,
   "metadata": {
    "collapsed": true,
    "deletable": true,
    "editable": true
   },
   "outputs": [],
   "source": [
    "import random"
   ]
  },
  {
   "cell_type": "code",
   "execution_count": 3,
   "metadata": {
    "collapsed": true,
    "deletable": true,
    "editable": true
   },
   "outputs": [],
   "source": [
    "import numpy as np\n",
    "import matplotlib.pyplot as plt"
   ]
  },
  {
   "cell_type": "code",
   "execution_count": 4,
   "metadata": {
    "collapsed": true,
    "deletable": true,
    "editable": true
   },
   "outputs": [],
   "source": [
    "class Exp3(object):\n",
    "    \n",
    "    def __init__(self, gamma, num_arms):\n",
    "        self.gamma = gamma\n",
    "        self.num_arms = num_arms\n",
    "        self.weights = np.ones(num_arms)\n",
    "        self.prob_distr = np.zeros(num_arms)\n",
    "        self.arm_t = 0\n",
    "        for i in xrange(self.prob_distr.shape[0]):\n",
    "            self.prob_distr[i] = (1-self.gamma)*(self.weights[i]/sum(self.weights)) + self.gamma/self.num_arms\n",
    "    \n",
    "    def play_arm(self):\n",
    "        self.arm_t = np.random.choice(self.num_arms, 1, p=list(self.prob_distr))[0]\n",
    "        return self.arm_t\n",
    "    \n",
    "    def update_distr(self,reward_t): \n",
    "        a_t = self.arm_t;\n",
    "        #print reward_t\n",
    "        x_t = reward_t/self.prob_distr[a_t]\n",
    "        #print x_t\n",
    "        self.weights[a_t] = self.weights[a_t]*np.exp(self.gamma*x_t/self.num_arms)\n",
    "        #print self.weights\n",
    "        #self.prob_distr[a_t] = (1-self.gamma)*(self.weights[a_t]/sum(self.weights)) + self.gamma/self.num_arms\n",
    "        for i in xrange(self.prob_distr.shape[0]):\n",
    "            self.prob_distr[i] = (1-self.gamma)*(self.weights[i]/sum(self.weights)) + self.gamma/self.num_arms\n",
    "            "
   ]
  },
  {
   "cell_type": "code",
   "execution_count": 5,
   "metadata": {
    "collapsed": false,
    "deletable": true,
    "editable": true
   },
   "outputs": [],
   "source": [
    "class Policy_regret_min(Exp3):\n",
    "    \n",
    "    def __init__(self, gamma, num_arms, memory, tau):\n",
    "        Exp3.__init__(self, gamma, num_arms)\n",
    "        self.memory = memory\n",
    "        self.z_t = np.random.randint(num_arms)\n",
    "        self.reward_t = 0\n",
    "        self.tau = tau\n",
    "        \n",
    "    def play_arm(self, curr_round):\n",
    "        if (curr_round-1)%self.tau == 0:\n",
    "            self.z_t = super(Policy_regret_min, self).play_arm()\n",
    "        return self.z_t\n",
    "    \n",
    "    def update_distr(self,rewards_t):\n",
    "        self.reward_t = np.sum(rewards_t)/self.memory\n",
    "        super(Policy_regret_min, self).update_distr(self.reward_t)\n",
    "        "
   ]
  },
  {
   "cell_type": "code",
   "execution_count": 6,
   "metadata": {
    "collapsed": true,
    "deletable": true,
    "editable": true
   },
   "outputs": [],
   "source": [
    "class Game:\n",
    "    \n",
    "    def __init__(self, gamma, utils, memories, T):\n",
    "        self.utils = utils\n",
    "        self.memories = memories\n",
    "        self.taus = np.ones(len(memories))\n",
    "        self.players = []\n",
    "        for i in xrange(len(memories)):\n",
    "            num_arms = utils.shape[i]\n",
    "            if memories[i] == 1:\n",
    "                tau = 1\n",
    "            else:\n",
    "                tau = max(memories[i],np.ceil(np.power(num_arms*np.log(num_arms),(-1.0/3.0))*np.power(T,1.0/3.0)))\n",
    "            #self.players.append(Policy_regret_min(np.sqrt((1.0*memories[i])/T)*gamma, utils.shape[i], memories[i], T))\n",
    "            self.players.append(Policy_regret_min(gamma*(np.sqrt(tau))/np.sqrt(T), utils.shape[i], memories[i], tau))\n",
    "            self.taus[i] = tau\n",
    "        self.curr_round = 0\n",
    "        self.rewards = [np.zeros(memories[i]) for i in xrange(len(memories))]\n",
    "        \n",
    "    def play_round(self):\n",
    "        #self.curr_round+=1\n",
    "        actions = tuple(self.players[i].play_arm(self.curr_round) for i in xrange(len(memories))) \n",
    "        for i in xrange(len(memories)):\n",
    "            self.rewards[i][self.curr_round%self.memories[i]-1] = self.utils[actions][i]\n",
    "            if (self.curr_round+1)%self.taus[i] == 0:\n",
    "                self.players[i].update_distr(self.rewards[i])\n",
    "        self.curr_round+=1\n",
    "        return actions\n"
   ]
  },
  {
   "cell_type": "code",
   "execution_count": 10,
   "metadata": {
    "collapsed": false,
    "deletable": true,
    "editable": true
   },
   "outputs": [],
   "source": [
    "T=20000\n",
    "memories = [1,10]\n",
    "#utils = np.array([[(0.5,1.0),(0.0,0.0)],[(0.0,0.0),(0.5,0.5)]])\n",
    "utils = np.array([[(1,2),(0.0,0.0)],[(0.0,0.0),(2,1)]])\n",
    "gamma = 1.0"
   ]
  },
  {
   "cell_type": "code",
   "execution_count": 11,
   "metadata": {
    "collapsed": false,
    "deletable": true,
    "editable": true
   },
   "outputs": [],
   "source": [
    "game = Game(gamma, utils, memories,T)"
   ]
  },
  {
   "cell_type": "code",
   "execution_count": 12,
   "metadata": {
    "collapsed": false,
    "deletable": true,
    "editable": true,
    "scrolled": true
   },
   "outputs": [
    {
     "name": "stdout",
     "output_type": "stream",
     "text": [
      "[[ 0.01165189  0.01355843]\n",
      " [ 0.0920683   0.88277138]] \n",
      "\n",
      "[ 0.02521032  0.97483968]   [ 0.10372019  0.89632981] \n",
      "\n",
      "[[ 0.0107  0.013 ]\n",
      " [ 0.1043  0.872 ]]\n"
     ]
    },
    {
     "data": {
      "image/png": "[encoded data removed]",
      "text/plain": [
       "<matplotlib.figure.Figure at 0x1115b74d0>"
      ]
     },
     "metadata": {},
     "output_type": "display_data"
    }
   ],
   "source": [
    "game.play_round();\n",
    "avr_distr = np.outer(np.array(game.players[0].prob_distr),np.array(game.players[1].prob_distr))\n",
    "p1_distr = np.array(game.players[0].prob_distr)\n",
    "p2_distr = np.array(game.players[1].prob_distr)\n",
    "avr_emp_distr = np.zeros(utils.shape[:-1])\n",
    "avr_emp_distrs = []\n",
    "for i in xrange(T):\n",
    "    actions = game.play_round()\n",
    "    #avr_distr += (i+1)*np.outer(np.array(game.players[0].prob_distr),np.array(game.players[1].prob_distr))/(i+2)\n",
    "    avr_distr += np.outer(np.array(game.players[0].prob_distr),np.array(game.players[1].prob_distr))\n",
    "    p1_distr += np.array(game.players[0].prob_distr)\n",
    "    p2_distr += np.array(game.players[1].prob_distr)\n",
    "    avr_emp_distr[actions] += 1\n",
    "    if i%100 == 0 or (i+1)%100 == 0:\n",
    "        #print \"round \", i\n",
    "        #print \"p1 distr,\", game.players[0].prob_distr, \", p1 action,\", game.players[0].z_t, \", p1 reward,\", game.players[0].reward_t\n",
    "        #print \"p2 distr,\", game.players[1].prob_distr, \", p2 action,\", game.players[1].z_t, \", p2 reward,\", game.players[1].reward_t, \"\\n\"\n",
    "        avr_emp_distrs.append(avr_emp_distr/(i+1))\n",
    "print avr_distr/T, \"\\n\"\n",
    "print p1_distr/T, \" \", p2_distr/T, \"\\n\"\n",
    "print avr_emp_distr/T\n",
    "a = [x[0]-x[1] for x in zip(avr_emp_distrs[:-1],avr_emp_distrs[1:])]\n",
    "plt.plot([np.linalg.norm(x) for x in a])\n",
    "plt.ylabel('||p_t - p_{t+100}||_F')\n",
    "plt.xlabel('50t')\n",
    "plt.show()"
   ]
  },
  {
   "cell_type": "code",
   "execution_count": null,
   "metadata": {
    "collapsed": true,
    "deletable": true,
    "editable": true
   },
   "outputs": [],
   "source": []
  }
 ],
 "metadata": {
  "kernelspec": {
   "display_name": "Python 2",
   "language": "python",
   "name": "python2"
  },
  "language_info": {
   "codemirror_mode": {
    "name": "ipython",
    "version": 2
   },
   "file_extension": ".py",
   "mimetype": "text/x-python",
   "name": "python",
   "nbconvert_exporter": "python",
   "pygments_lexer": "ipython2",
   "version": "2.7.10"
  }
 },
 "nbformat": 4,
 "nbformat_minor": 2
}
